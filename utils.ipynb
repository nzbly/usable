{
 "cells": [
  {
   "cell_type": "code",
   "execution_count": null,
   "id": "56d59b5a",
   "metadata": {},
   "outputs": [],
   "source": [
    "\n",
    "import pandas as pd\n",
    "import numpy as np\n",
    "from sklearn.model_selection import train_test_split, GridSearchCV\n",
    "from sklearn.ensemble import RandomForestClassifier\n",
    "from sklearn.pipeline import Pipeline\n",
    "from sklearn.preprocessing import StandardScaler\n",
    "from sklearn.metrics import classification_report, roc_auc_score\n",
    "import joblib\n",
    "import os\n"
   ]
  },
  {
   "cell_type": "code",
   "execution_count": null,
   "id": "e558cfbc",
   "metadata": {},
   "outputs": [],
   "source": [
    "\n",
    "def load_and_split_data(df, target_col='target', test_size=0.2, random_state=42):\n",
    "    X = df.drop(columns=[target_col])\n",
    "    y = df[target_col]\n",
    "    return train_test_split(X, y, test_size=test_size, stratify=y, random_state=random_state)\n"
   ]
  },
  {
   "cell_type": "code",
   "execution_count": null,
   "id": "b9b73e9c",
   "metadata": {},
   "outputs": [],
   "source": [
    "\n",
    "def build_pipeline_and_grid():\n",
    "    pipeline = Pipeline([\n",
    "        ('scaler', StandardScaler()),\n",
    "        ('clf', RandomForestClassifier(random_state=42))\n",
    "    ])\n",
    "\n",
    "    param_grid = {\n",
    "        'clf__n_estimators': [100, 200],\n",
    "        'clf__max_depth': [5, 10, None],\n",
    "        'clf__min_samples_split': [2, 5]\n",
    "    }\n",
    "\n",
    "    return pipeline, param_grid\n"
   ]
  },
  {
   "cell_type": "code",
   "execution_count": null,
   "id": "dd4005e0",
   "metadata": {},
   "outputs": [],
   "source": [
    "\n",
    "def train_model_with_gridsearch(X_train, y_train, pipeline, param_grid, cv=5):\n",
    "    grid = GridSearchCV(pipeline, param_grid, cv=cv, scoring='roc_auc', verbose=1, n_jobs=-1)\n",
    "    grid.fit(X_train, y_train)\n",
    "    return grid\n"
   ]
  },
  {
   "cell_type": "code",
   "execution_count": null,
   "id": "c16329c8",
   "metadata": {},
   "outputs": [],
   "source": [
    "\n",
    "def predict_and_save(grid, X_test, y_test, output_path='model_predictions.csv'):\n",
    "    best_model = grid.best_estimator_\n",
    "    y_pred = best_model.predict(X_test)\n",
    "    y_proba = best_model.predict_proba(X_test)[:, 1]\n",
    "\n",
    "    report = classification_report(y_test, y_pred, output_dict=True)\n",
    "    print(\"Classification Report:\")\n",
    "    print(classification_report(y_test, y_pred))\n",
    "\n",
    "    predictions_df = pd.DataFrame({\n",
    "        'Actual': y_test.values,\n",
    "        'Predicted': y_pred,\n",
    "        'Probability': y_proba\n",
    "    })\n",
    "    predictions_df.to_csv(output_path, index=False)\n",
    "\n",
    "    return best_model, report\n"
   ]
  },
  {
   "cell_type": "code",
   "execution_count": null,
   "id": "de58fa5a",
   "metadata": {},
   "outputs": [],
   "source": [
    "\n",
    "def save_model(model, path='best_model.pkl'):\n",
    "    joblib.dump(model, path)\n",
    "    print(f\"Model saved to {path}\")\n"
   ]
  },
  {
   "cell_type": "code",
   "execution_count": null,
   "id": "aed04d5c",
   "metadata": {},
   "outputs": [],
   "source": [
    "\n",
    "def full_model_refit_pipeline(df, target_col='target'):\n",
    "    X_train, X_test, y_train, y_test = load_and_split_data(df, target_col)\n",
    "    pipeline, param_grid = build_pipeline_and_grid()\n",
    "    grid = train_model_with_gridsearch(X_train, y_train, pipeline, param_grid)\n",
    "    best_model, report = predict_and_save(grid, X_test, y_test)\n",
    "    save_model(best_model)\n",
    "    return best_model, report\n"
   ]
  }
 ],
 "metadata": {},
 "nbformat": 4,
 "nbformat_minor": 5
}
